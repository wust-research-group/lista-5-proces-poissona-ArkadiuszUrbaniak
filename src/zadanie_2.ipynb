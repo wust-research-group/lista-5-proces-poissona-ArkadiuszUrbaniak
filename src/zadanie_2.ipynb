{
 "cells": [
  {
   "cell_type": "markdown",
   "metadata": {},
   "source": [
    "# Zadanie 2"
   ]
  },
  {
   "cell_type": "markdown",
   "metadata": {},
   "source": [
    "### Kompresowany proces Poissona"
   ]
  },
  {
   "cell_type": "code",
   "execution_count": 43,
   "metadata": {},
   "outputs": [],
   "source": [
    "import matplotlib.pyplot as plt\n",
    "import numpy as np"
   ]
  },
  {
   "cell_type": "code",
   "execution_count": 44,
   "metadata": {},
   "outputs": [
    {
     "data": {
      "image/png": "[encoded data removed]",
      "text/plain": [
       "<Figure size 640x480 with 1 Axes>"
      ]
     },
     "metadata": {},
     "output_type": "display_data"
    }
   ],
   "source": [
    "def k_poiss(lambd=1 / 2, T=10):\n",
    "    S = []\n",
    "    I = 0\n",
    "    t = 0\n",
    "    while t <= T:\n",
    "        U = np.random.uniform(0, 1)\n",
    "        t = t - 1 / lambd * np.log(U)\n",
    "        if t <= T:\n",
    "            I = I + 1\n",
    "            S.append(t)\n",
    "    n = len(S)\n",
    "    N = np.arange(1, n + 1)\n",
    "    N = list(N)\n",
    "    for i, t in enumerate(S):\n",
    "        x = N[i]\n",
    "        N[i] = x - lambd * t\n",
    "    return S, N\n",
    "\n",
    "\n",
    "S, N = k_poiss()\n",
    "\n",
    "plt.step(S, N)\n",
    "plt.title(\"Kompresowany proces Poissona\")\n",
    "plt.xlabel(\"T\")\n",
    "plt.ylabel(\"Nt\")\n",
    "plt.grid(True)\n",
    "plt.show()"
   ]
  },
  {
   "cell_type": "code",
   "execution_count": null,
   "metadata": {},
   "outputs": [],
   "source": []
  }
 ],
 "metadata": {
  "kernelspec": {
   "display_name": "Python 3",
   "language": "python",
   "name": "python3"
  },
  "language_info": {
   "codemirror_mode": {
    "name": "ipython",
    "version": 3
   },
   "file_extension": ".py",
   "mimetype": "text/x-python",
   "name": "python",
   "nbconvert_exporter": "python",
   "pygments_lexer": "ipython3",
   "version": "3.10.8"
  }
 },
 "nbformat": 4,
 "nbformat_minor": 2
}
